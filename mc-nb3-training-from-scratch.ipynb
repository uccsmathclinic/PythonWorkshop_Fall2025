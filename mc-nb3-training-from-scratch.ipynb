{
 "cells": [
  {
   "cell_type": "markdown",
   "metadata": {},
   "source": [
    "# Jupyter Notebook 3: Training from Scratch\n",
    "\n",
    "In this notebook, you will write a function to perform gradient descent using backpropagation for a neural network with a single hidden layer and an arbitrary number of nodes.\n",
    "\n",
    "Assume the activation function in each layer is the same and the loss function is the following variation of squared error:\n",
    "$$ L(\\mathbf{y}, \\tilde{\\mathbf{y}}) = \\frac{1}{n} \\sum_{i=1}^n \\frac{1}{2} \\Vert \\mathbf{y} - \\tilde{\\mathbf{y}} \\Vert^2 ,$$\n",
    "where $n$ is the number of samples."
   ]
  },
  {
   "cell_type": "code",
   "execution_count": 8,
   "metadata": {},
   "outputs": [
    {
     "name": "stdout",
     "output_type": "stream",
     "text": [
      "[(0.4769537490554331, 0.8399380120701496, 1), (0.6941261810578314, 0.8703555406449119, 1), (0.9079887575459813, 0.9893353221884155, 1), (0.34544646987944283, 0.37623332994387215, 1), (0.6563311995372767, 0.9748029427550182, 1), (0.31617126048167643, 0.24604090648691324, 1), (0.1377157413929221, 0.03944667006478042, 1), (0.49704330474841063, 0.9964851878874488, 1), (0.0665710917330734, 0.6249823244706862, 1), (0.16411855059467484, 0.1570737181984152, 1), (0.7443484453852066, 0.1282472949317428, 0), (0.4251275592497069, 0.009047256662075509, 0), (0.9792353795865231, 0.934074151519706, 0), (0.8340423891979273, 0.3825297430934016, 0), (0.6448694684675026, 0.07136661933332422, 0), (0.8837993979260166, 0.1736014757683224, 0), (0.6666967869607976, 0.3679548476080752, 0), (0.9793874853081406, 0.45144240694423965, 0), (0.8180875020710847, 0.3188129060816932, 0), (0.589427288675588, 0.1742779176991618, 0)]\n",
      "[[0.47695375 0.83993801 1.        ]\n",
      " [0.69412618 0.87035554 1.        ]\n",
      " [0.90798876 0.98933532 1.        ]\n",
      " [0.34544647 0.37623333 1.        ]\n",
      " [0.6563312  0.97480294 1.        ]\n",
      " [0.31617126 0.24604091 1.        ]\n",
      " [0.13771574 0.03944667 1.        ]\n",
      " [0.4970433  0.99648519 1.        ]\n",
      " [0.06657109 0.62498232 1.        ]\n",
      " [0.16411855 0.15707372 1.        ]\n",
      " [0.74434845 0.12824729 0.        ]\n",
      " [0.42512756 0.00904726 0.        ]\n",
      " [0.97923538 0.93407415 0.        ]\n",
      " [0.83404239 0.38252974 0.        ]\n",
      " [0.64486947 0.07136662 0.        ]\n",
      " [0.8837994  0.17360148 0.        ]\n",
      " [0.66669679 0.36795485 0.        ]\n",
      " [0.97938749 0.45144241 0.        ]\n",
      " [0.8180875  0.31881291 0.        ]\n",
      " [0.58942729 0.17427792 0.        ]]\n"
     ]
    },
    {
     "data": {
      "image/png": "[encoded data removed]",
      "text/plain": [
       "<Figure size 640x480 with 1 Axes>"
      ]
     },
     "metadata": {},
     "output_type": "display_data"
    }
   ],
   "source": [
    "# First, let's define some random data for you to work with. \n",
    "# The data is in the form of a list of tuples, where each tuple contains three elements: x, y, and a class label. \n",
    "# The class label is either 0 or 1. \n",
    "# The data is generated such that the class label is 1 if y >= x**2 and 0 otherwise. \n",
    "# The data is then converted to a NumPy array.\n",
    "# The data is plotted using Matplotlib, where the samples are colored based on their class label.\n",
    "# Finally, we store the training data into two arrays. \n",
    "\n",
    "import numpy as np\n",
    "\n",
    "# Generate 10 samples of the form (x, y, 1) where y >= x**2\n",
    "samples_class_1 = []\n",
    "while len(samples_class_1) < 10:\n",
    "    x = np.random.rand()\n",
    "    y = np.random.rand()\n",
    "    if y >= x**2:\n",
    "        samples_class_1.append((x, y, 1))\n",
    "\n",
    "# Generate 10 samples of the form (x, y, 0) where y < x**2\n",
    "samples_class_0 = []\n",
    "while len(samples_class_0) < 10:\n",
    "    x = np.random.rand()\n",
    "    y = np.random.rand()\n",
    "    if y < x**2:\n",
    "        samples_class_0.append((x, y, 0))\n",
    "\n",
    "# Combine the samples\n",
    "samples = samples_class_1 + samples_class_0\n",
    "print(samples)\n",
    "\n",
    "# Convert to a NumPy array\n",
    "samples_array = np.array(samples)\n",
    "print(samples_array)\n",
    "\n",
    "import matplotlib.pyplot as plt\n",
    "\n",
    "# Separate the samples based on their class\n",
    "class_0 = samples_array[samples_array[:, 2] == 0]\n",
    "class_1 = samples_array[samples_array[:, 2] == 1]\n",
    "\n",
    "# Plot the samples\n",
    "plt.scatter(class_0[:, 0], class_0[:, 1], color='blue', marker='o', label='Class 0')\n",
    "plt.scatter(class_1[:, 0], class_1[:, 1], color='red', marker='x', label='Class 1')\n",
    "\n",
    "# Add labels and legend\n",
    "plt.xlabel('x')\n",
    "plt.ylabel('y')\n",
    "plt.legend()\n",
    "plt.title('Samples Plot')\n",
    "plt.show()\n",
    "\n",
    "# Separate the samples into features and labels\n",
    "train_points = samples_array[:, :2]\n",
    "train_labels = samples_array[:, 2]"
   ]
  },
  {
   "cell_type": "code",
   "execution_count": 1,
   "metadata": {},
   "outputs": [],
   "source": [
    "# define loss function\n",
    "import numpy as np\n",
    "def loss(y_true, y_pred):\n",
    "    return 0.5 * np.math.norm(y_true - y_pred) ** 2\n",
    "\n",
    "# define possible activation functions\n",
    "def sigmoid(x):\n",
    "    return 1 / (1 + np.exp(-x))\n",
    "\n",
    "def ReLU(x):\n",
    "    return np.maximum(0, x)\n"
   ]
  },
  {
   "cell_type": "code",
   "execution_count": null,
   "metadata": {},
   "outputs": [],
   "source": [
    "# define the neural network\n",
    "num_input = 2 # number of input neurons\n",
    "num_hidden = 3 # number of hidden neurons\n",
    "num_output = 1 # number of output neurons\n",
    "activation = sigmoid # possible values are sigmoid or ReLU\n",
    "learning_rate = 0.01"
   ]
  },
  {
   "cell_type": "markdown",
   "metadata": {},
   "source": [
    "### **Problem 1**\n",
    "\n",
    "Define a function `model-compile` that takes as input `num_input`, `num_hidden`, `num_output`, and `activation` and returns randomized model weights $W^2, W^3$ and biases ${\\bf b}^2, {\\bf b}^3$ in the range $[0,1)$. Define these outputs as `W2`, `W3`, `b2`, and `b3`."
   ]
  },
  {
   "cell_type": "code",
   "execution_count": null,
   "metadata": {},
   "outputs": [],
   "source": []
  },
  {
   "cell_type": "markdown",
   "metadata": {},
   "source": [
    "### **Problem 2**\n",
    "\n",
    "Define functions for applying each layer to get a pre-activated layer (call these functions `layer1`, `layer2`, etc.) and a function to compute the whole model given an input called `model`."
   ]
  },
  {
   "cell_type": "code",
   "execution_count": null,
   "metadata": {},
   "outputs": [],
   "source": []
  },
  {
   "cell_type": "markdown",
   "metadata": {},
   "source": [
    "### **Problem 3**\n",
    "\n",
    "Compute and define the functions `sigmoid_derivative` and `ReLU_derivative`."
   ]
  },
  {
   "cell_type": "code",
   "execution_count": null,
   "metadata": {},
   "outputs": [],
   "source": []
  },
  {
   "cell_type": "markdown",
   "metadata": {},
   "source": [
    "### **Problem 4**\n",
    "\n",
    "Compute the gradient of the loss function with respect to the final layer. Then define the function `loss_grad_final_layer`. *Hint: Your input will be the same input should be a NumPy array representing the final layer, and your output will be a NumPy array*"
   ]
  },
  {
   "cell_type": "code",
   "execution_count": null,
   "metadata": {},
   "outputs": [],
   "source": [
    " "
   ]
  },
  {
   "cell_type": "markdown",
   "metadata": {},
   "source": [
    "### **Problem 5**\n",
    "\n",
    "Write a function to compute the gradient vector of the loss function with respect to the model weights and biases. Call it `model-gradient`. *Hint: your input will be your model paramters and your output will be the partial of the loss function with respect to each paramter.*"
   ]
  },
  {
   "cell_type": "code",
   "execution_count": null,
   "metadata": {},
   "outputs": [],
   "source": []
  },
  {
   "cell_type": "markdown",
   "metadata": {},
   "source": [
    "### **Problem 6**\n",
    "\n",
    "Write a function to perform gradient descent to update your model weights. Note, one of your inputs will be `learning_rate`."
   ]
  },
  {
   "cell_type": "code",
   "execution_count": null,
   "metadata": {},
   "outputs": [],
   "source": []
  },
  {
   "cell_type": "markdown",
   "metadata": {},
   "source": [
    "### **Problem 7**\n",
    "\n",
    "Write a function to perform a training loop for your model. That is, your loop should use your functions to compute the gradients of your loss function with respect to your parameters and update your model weights with gradient descent for some number of epochs. Your function should print checkpoints like the number of each iteration and current value of the loss function."
   ]
  },
  {
   "cell_type": "code",
   "execution_count": null,
   "metadata": {},
   "outputs": [],
   "source": []
  },
  {
   "cell_type": "markdown",
   "metadata": {},
   "source": [
    "### **Problem 8**\n",
    "\n",
    "Train your model. Run at least 10 iterations of gradient descent."
   ]
  },
  {
   "cell_type": "code",
   "execution_count": null,
   "metadata": {},
   "outputs": [],
   "source": []
  }
 ],
 "metadata": {
  "kernelspec": {
   "display_name": "Python 3",
   "language": "python",
   "name": "python3"
  },
  "language_info": {
   "codemirror_mode": {
    "name": "ipython",
    "version": 3
   },
   "file_extension": ".py",
   "mimetype": "text/x-python",
   "name": "python",
   "nbconvert_exporter": "python",
   "pygments_lexer": "ipython3",
   "version": "3.12.1"
  }
 },
 "nbformat": 4,
 "nbformat_minor": 2
}
